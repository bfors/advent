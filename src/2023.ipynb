{
 "cells": [
  {
   "cell_type": "code",
   "execution_count": 1,
   "metadata": {},
   "outputs": [
    {
     "name": "stdout",
     "output_type": "stream",
     "text": [
      "starting import\n"
     ]
    }
   ],
   "source": [
    "from AdventUtils import *\n",
    "import AdventUtils\n",
    "AdventUtils.current_year = 2023"
   ]
  },
  {
   "cell_type": "markdown",
   "metadata": {},
   "source": [
    "# Day 1"
   ]
  },
  {
   "cell_type": "code",
   "execution_count": 2,
   "metadata": {},
   "outputs": [
    {
     "data": {
      "text/plain": [
       "  .0042 seconds, answer: 54159"
      ]
     },
     "execution_count": 2,
     "metadata": {},
     "output_type": "execute_result"
    }
   ],
   "source": [
    "in1 = parse(1, show=0)\n",
    "\n",
    "def trebuchet(data):\n",
    "    sum = 0\n",
    "    for line in data:\n",
    "        first = ''\n",
    "        last = ''\n",
    "        for c in line:\n",
    "            if c.isdigit():\n",
    "                if not first:\n",
    "                    first = c\n",
    "                last = c\n",
    "        sum += int(first + last)\n",
    "    return sum\n",
    "\n",
    "answer(1.1, 54159, lambda: trebuchet(in1))"
   ]
  },
  {
   "cell_type": "code",
   "execution_count": 3,
   "metadata": {},
   "outputs": [
    {
     "data": {
      "text/plain": [
       "  .3275 seconds, answer: 53866"
      ]
     },
     "execution_count": 3,
     "metadata": {},
     "output_type": "execute_result"
    }
   ],
   "source": [
    "in1 = parse(1, show=0)\n",
    "\n",
    "nums = {\"one\":\"1\", \"two\":\"2\", \"three\":\"3\", \"four\":\"4\", \"five\":\"5\", \n",
    "        \"six\":\"6\", \"seven\":\"7\", \"eight\":\"8\", \"nine\":\"9\",\n",
    "        \"1\":\"1\",\"2\":\"2\",\"3\":\"3\",\"4\":\"4\",\"5\":\"5\",\"6\":\"6\",\"7\":\"7\",\"8\":\"8\",\"9\":\"9\"}\n",
    "\n",
    "def trebuchet(data):\n",
    "    sum = 0\n",
    "    for line in data:\n",
    "        first = ''\n",
    "        last = ''\n",
    "        for i in range(len(line)):\n",
    "            for number in nums.keys():\n",
    "                if line[i:i+5].startswith(number):\n",
    "                    num = nums[number]\n",
    "                    if not first:\n",
    "                        first = num\n",
    "                    last = num\n",
    "        sum += int(first + last)\n",
    "    return sum\n",
    "\n",
    "answer(1.2, 53866, lambda: trebuchet(in1))"
   ]
  },
  {
   "cell_type": "markdown",
   "metadata": {},
   "source": [
    "# Day 2"
   ]
  },
  {
   "cell_type": "code",
   "execution_count": 4,
   "metadata": {},
   "outputs": [
    {
     "data": {
      "text/plain": [
       "  .0013 seconds, answer: 2085"
      ]
     },
     "execution_count": 4,
     "metadata": {},
     "output_type": "execute_result"
    }
   ],
   "source": [
    "in2 = parse(2, show=0)\n",
    "    \n",
    "def game(data, rmax=12, gmax=13, bmax=14):\n",
    "    gameid = 1\n",
    "    sum = 0\n",
    "    for game in data:\n",
    "        possible = True\n",
    "        id, gameinfo = game.split(':')\n",
    "        for info in gameinfo.split(';'):\n",
    "            rgb = defaultdict(int)\n",
    "            for shown in info.split(','):\n",
    "                amount, color = shown.strip().split(' ')\n",
    "                rgb[color] += int(amount)\n",
    "            if rgb['red'] > rmax or rgb['green'] > gmax or rgb['blue'] > bmax:\n",
    "                possible = False\n",
    "        if possible:\n",
    "            sum += gameid\n",
    "        gameid += 1\n",
    "    return sum\n",
    "\n",
    "answer(2.1, 2085, lambda: game(in2))"
   ]
  },
  {
   "cell_type": "code",
   "execution_count": 5,
   "metadata": {},
   "outputs": [
    {
     "data": {
      "text/plain": [
       "  .0043 seconds, answer: 79315"
      ]
     },
     "execution_count": 5,
     "metadata": {},
     "output_type": "execute_result"
    }
   ],
   "source": [
    "import math\n",
    "in2 = parse(2, show=0)\n",
    "    \n",
    "def game(data):\n",
    "    sum = 0\n",
    "    for game in data:\n",
    "        game_id, game_info = game.split(':')\n",
    "        rgb_max = defaultdict(int)\n",
    "        for info in game_info.split(';'):\n",
    "            rgb = defaultdict(int)\n",
    "            for shown in info.split(','):\n",
    "                amount, color = shown.strip().split(' ')\n",
    "                rgb[color] += int(amount)\n",
    "            for key in rgb.keys():\n",
    "                rgb_max[key] = max(rgb[key], rgb_max[key])\n",
    "        sum += math.prod(rgb_max.values())\n",
    "    return sum\n",
    "\n",
    "answer(2.2, 79315, lambda: game(in2))"
   ]
  },
  {
   "cell_type": "markdown",
   "metadata": {},
   "source": [
    "# Day 3"
   ]
  },
  {
   "cell_type": "code",
   "execution_count": 6,
   "metadata": {},
   "outputs": [
    {
     "data": {
      "text/plain": [
       "  .1070 seconds, answer: 521601"
      ]
     },
     "execution_count": 6,
     "metadata": {},
     "output_type": "execute_result"
    }
   ],
   "source": [
    "in3 = parse(3, show=0)\n",
    "\n",
    "def is_valid(data, x, y): return x >= 0 and y >=0 and x < len(data[0]) and y < len(data)\n",
    "def get_points(data, x,y): return [(x,y) for x,y in [(x+1,y+1), (x-1,y-1), (x+1, y), (x-1, y), (x, y+1), (x, y-1), (x-1, y+1), (x+1, y-1)] if is_valid(data, x, y)]\n",
    "\n",
    "def check_int(x, y, data):\n",
    "    num = []\n",
    "    symbols = '!@#$%^&*()_+-=/\\[]\\{\\}<>?|'\n",
    "    is_part = False\n",
    "    while x < len(data[y]) and data[y][x].isdigit():\n",
    "        if [p for p in get_points(data, x, y) if data[p[1]][p[0]] in symbols]:\n",
    "            is_part = True\n",
    "        num.append(data[y][x])\n",
    "        x += 1\n",
    "    return (is_part, ''.join(num))\n",
    "\n",
    "def parts(data):\n",
    "    sum = 0\n",
    "    \n",
    "    for y, line in enumerate(data):\n",
    "        x = 0\n",
    "        while x < len(line):\n",
    "            if not line[x].isdigit():\n",
    "                x += 1\n",
    "                continue\n",
    "            is_part, partnum = check_int(x, y, data)\n",
    "            sum += int(partnum) if is_part else 0\n",
    "            x += len(partnum)\n",
    "    return sum\n",
    "\n",
    "answer(3.1, 521601, lambda: parts(in3))\n",
    "      "
   ]
  },
  {
   "cell_type": "code",
   "execution_count": 7,
   "metadata": {},
   "outputs": [
    {
     "data": {
      "text/plain": [
       "  .0436 seconds, answer: 80694070"
      ]
     },
     "execution_count": 7,
     "metadata": {},
     "output_type": "execute_result"
    }
   ],
   "source": [
    "in3 = parse(3, show=0)\n",
    "\n",
    "def is_valid(data, x, y): return x >= 0 and y >=0 and x < len(data[0]) and y < len(data)\n",
    "def get_points(data, x,y):\n",
    "    return [(x,y) for x,y in [(x+1,y+1), (x-1,y-1), (x+1, y), (x-1, y), (x, y+1), (x, y-1), (x-1, y+1), (x+1, y-1)] if is_valid(data, x, y)]\n",
    "\n",
    "def check_int(x, y, data):\n",
    "    num = []\n",
    "    gears = []\n",
    "    while x < len(data[y]) and data[y][x].isdigit():\n",
    "        gears += [p for p in get_points(data, x, y) if data[p[1]][p[0]] == '*']\n",
    "        num.append(data[y][x])\n",
    "        x += 1\n",
    "    return (set(gears), ''.join(num))\n",
    "\n",
    "def parts(data):\n",
    "    gears = defaultdict(list)\n",
    "    for y, line in enumerate(data):\n",
    "        x = 0\n",
    "        while x < len(line):\n",
    "            if not line[x].isdigit():\n",
    "                x += 1\n",
    "                continue\n",
    "            gear_points, partnum = check_int(x, y, data)\n",
    "            for point in gear_points:\n",
    "                gears[point].append(int(partnum))\n",
    "            x += len(partnum)\n",
    "\n",
    "    return sum(vals[0]*vals[1] for vals in gears.values() if len(vals)==2)\n",
    "\n",
    "answer(3.2, 80694070, lambda: parts(in3))\n",
    "      "
   ]
  },
  {
   "cell_type": "markdown",
   "metadata": {},
   "source": [
    "# Day 4"
   ]
  },
  {
   "cell_type": "code",
   "execution_count": 8,
   "metadata": {},
   "outputs": [
    {
     "data": {
      "text/plain": [
       "  .0053 seconds, answer: 21919"
      ]
     },
     "execution_count": 8,
     "metadata": {},
     "output_type": "execute_result"
    }
   ],
   "source": [
    "import math\n",
    "in4 = parse(4, show=0)\n",
    "\n",
    "def get_numbers(text: str):\n",
    "    return tuple(map(int, re.findall(r\"-?[0-9]+\", text)))\n",
    "\n",
    "def scratch(data):\n",
    "    total = 0\n",
    "    for card in data:\n",
    "        left, right = card.split(':')[1].split('|')\n",
    "        winners = set(get_numbers(left))\n",
    "        numbers = get_numbers(right)\n",
    "        matches = sum(1 for n in numbers if n in winners)\n",
    "        if matches > 0:\n",
    "            total += int(math.pow(2,matches-1))\n",
    "    return total\n",
    "\n",
    "answer(4.1, 21919, lambda: scratch(in4))\n"
   ]
  },
  {
   "cell_type": "code",
   "execution_count": 9,
   "metadata": {},
   "outputs": [
    {
     "data": {
      "text/plain": [
       "  .0053 seconds, answer: 9881048"
      ]
     },
     "execution_count": 9,
     "metadata": {},
     "output_type": "execute_result"
    }
   ],
   "source": [
    "in4 = parse(4, show=0)\n",
    "\n",
    "def get_numbers(text: str):\n",
    "    return tuple(map(int, re.findall(r\"-?[0-9]+\", text)))\n",
    "\n",
    "def scratch(data):\n",
    "    copies = Counter()\n",
    "    for i, card in enumerate(data, 1):\n",
    "        copies[i] += 1\n",
    "        left, right = card.split(':')[1].split('|')\n",
    "        winners = set(get_numbers(left))\n",
    "        numbers = get_numbers(right)\n",
    "        matches = sum(1 for n in numbers if n in winners)\n",
    "        for j in range(1, matches+1):\n",
    "            copies[i+j] += copies[i]\n",
    "\n",
    "    return sum(copies.values())\n",
    "\n",
    "answer(4.2, 9881048, lambda: scratch(in4))\n"
   ]
  },
  {
   "cell_type": "markdown",
   "metadata": {},
   "source": [
    "# Day 5"
   ]
  },
  {
   "cell_type": "code",
   "execution_count": 10,
   "metadata": {},
   "outputs": [
    {
     "data": {
      "text/plain": [
       "  .0059 seconds, answer: 621354867"
      ]
     },
     "execution_count": 10,
     "metadata": {},
     "output_type": "execute_result"
    }
   ],
   "source": [
    "in5 = parse(5, sections=paragraphs, show=0)\n",
    "\n",
    "def get_location(key, data):\n",
    "    for table in data:\n",
    "        for item in table.split('\\n')[1:]:\n",
    "            dest, src, interval = map(int, item.split(' '))\n",
    "            if key >= src and key <= src + interval:\n",
    "                key = (key - src) + dest\n",
    "                break\n",
    "    return key\n",
    "\n",
    "def seeds(data):\n",
    "    seeds = ints(data[0].split(':')[1])\n",
    "    return min(get_location(seed, data[1:]) for seed in seeds)\n",
    "\n",
    "answer(5.1, 621354867, lambda: seeds(in5))"
   ]
  },
  {
   "cell_type": "code",
   "execution_count": 11,
   "metadata": {},
   "outputs": [
    {
     "data": {
      "text/plain": [
       "  .0099 seconds, answer: 15880236"
      ]
     },
     "execution_count": 11,
     "metadata": {},
     "output_type": "execute_result"
    }
   ],
   "source": [
    "in5 = parse(5, sections=paragraphs, show=0)\n",
    "\n",
    "@dataclass\n",
    "class Mapping:\n",
    "    dst: range\n",
    "    src: range\n",
    "    def __init__(self, src, dst, interval):\n",
    "        self.dst = range(dst, dst+interval-1)\n",
    "        self.src = range(src, src+interval-1)\n",
    "\n",
    "def seeds(data):\n",
    "    seeds = ints(data[0].split(':')[1])\n",
    "    seed_pairs = zip(seeds[::2], seeds[1::2])\n",
    "    seed_ranges = [range(start, start+interval-1) for start, interval in seed_pairs]\n",
    "\n",
    "    mappings = []\n",
    "    for mapblock in data[1:]:\n",
    "        mapping = []\n",
    "        for line in mapblock.split('\\n')[1:]:\n",
    "            dst,src,interval = map(int, line.split(' '))\n",
    "            mapping.append(Mapping(src,dst,interval))\n",
    "        mappings.append(mapping)\n",
    "\n",
    "    for mapping in mappings:\n",
    "        new_ranges = []\n",
    "        for seed_range in seed_ranges:\n",
    "            for mrange in mapping:\n",
    "                if mrange.src.start <= seed_range.start <= mrange.src.stop or mrange.src.start <= seed_range.stop <= mrange.src.stop:\n",
    "                    overlap = range(max(seed_range.start, mrange.src.start), min(seed_range.stop, mrange.src.stop))\n",
    "                    overlap_map = range(mrange.dst.start + (overlap.start - mrange.src.start),\n",
    "                                        mrange.dst.start + (overlap.stop - mrange.src.start))\n",
    "                    new_ranges.append(overlap_map)\n",
    "\n",
    "                    trange = range(seed_range.start, overlap.start-1)\n",
    "                    brange = range(overlap.stop+1, seed_range.stop)\n",
    "                    if trange:\n",
    "                        seed_ranges.append(trange)\n",
    "                    if brange:\n",
    "                        seed_ranges.append(brange)\n",
    "                    break\n",
    "            else:\n",
    "                new_ranges.append(seed_range)\n",
    "        seed_ranges = new_ranges\n",
    "\n",
    "    return min(r.start for r in seed_ranges)\n",
    "                \n",
    "                    \n",
    "answer(5.2, 15880236, lambda: seeds(in5))"
   ]
  },
  {
   "cell_type": "markdown",
   "metadata": {},
   "source": [
    "# Day 6"
   ]
  },
  {
   "cell_type": "code",
   "execution_count": 12,
   "metadata": {},
   "outputs": [
    {
     "name": "stdout",
     "output_type": "stream",
     "text": [
      "────────────────────────────────────────────────────────────────────────────────────────────────────\n",
      "Puzzle input ➜ 2 strs:\n",
      "────────────────────────────────────────────────────────────────────────────────────────────────────\n",
      "Time:        61     67     75     71\n",
      "Distance:   430   1036   1307   1150\n"
     ]
    },
    {
     "data": {
      "text/plain": [
       "  .0001 seconds, answer: 316800"
      ]
     },
     "execution_count": 12,
     "metadata": {},
     "output_type": "execute_result"
    }
   ],
   "source": [
    "in6 = parse(6)\n",
    "\n",
    "def race(data):\n",
    "    races = zip(ints(data[0]), ints(data[1]))\n",
    "\n",
    "    def get_distance(hold, time):\n",
    "        distance = (time-hold) * hold\n",
    "        return distance\n",
    "\n",
    "    times = []\n",
    "    for time, dist in list(races):\n",
    "        t = [get_distance(hold, time) for hold in range(time)]\n",
    "        t = [t for t in t if t > dist]\n",
    "        times.append(len(t))\n",
    "    return prod(times)\n",
    "\n",
    "answer(6.1, 316800, lambda: race(in6))"
   ]
  },
  {
   "cell_type": "code",
   "execution_count": 13,
   "metadata": {},
   "outputs": [
    {
     "name": "stdout",
     "output_type": "stream",
     "text": [
      "────────────────────────────────────────────────────────────────────────────────────────────────────\n",
      "Puzzle input ➜ 2 strs:\n",
      "────────────────────────────────────────────────────────────────────────────────────────────────────\n",
      "Time:        61     67     75     71\n",
      "Distance:   430   1036   1307   1150\n"
     ]
    },
    {
     "data": {
      "text/plain": [
       "  .4325 seconds, answer: 45647654"
      ]
     },
     "execution_count": 13,
     "metadata": {},
     "output_type": "execute_result"
    }
   ],
   "source": [
    "from sympy import solve, Eq\n",
    "from sympy.abc import x\n",
    "from math import floor, ceil\n",
    "in6 = parse(6)\n",
    "\n",
    "def race(data):\n",
    "    time = int(''.join(map(str, digits(data[0]))))\n",
    "    dist = int(''.join(map(str, digits(data[1]))))\n",
    "    # solve for x: dist = (time - x)*x\n",
    "    a, b = solve(Eq(time*x-x*x, dist))\n",
    "    diff =  floor(b.evalf()) - ceil(a.evalf())+1\n",
    "    return diff\n",
    "    \n",
    "\n",
    "\n",
    "answer(6.1, 45647654, lambda: race(in6))"
   ]
  },
  {
   "cell_type": "markdown",
   "metadata": {},
   "source": [
    "# Day 7"
   ]
  },
  {
   "cell_type": "code",
   "execution_count": 14,
   "metadata": {},
   "outputs": [
    {
     "data": {
      "text/plain": [
       "  .0001 seconds, answer: 6440 !!!! INCORRECT !!!! Expected 251287184"
      ]
     },
     "execution_count": 14,
     "metadata": {},
     "output_type": "execute_result"
    }
   ],
   "source": [
    "in7 = parse(7, show=0)\n",
    "\n",
    "def cards(data):\n",
    "    ranks = defaultdict(list)\n",
    "    for item in data:\n",
    "        hand, bet = item.split(' ')\n",
    "        ranks[hand_type(hand)].append((hand, bet))\n",
    "    for k, v in ranks.items():\n",
    "        ranks[k] = sorted(v, key=functools.cmp_to_key(hand_comparer))\n",
    "    rank = 1\n",
    "    score = 0\n",
    "    for i in range(1, 8):\n",
    "        for hand, bet in ranks[i]:\n",
    "            score += rank * int(bet)\n",
    "            rank += 1\n",
    "    return score\n",
    "\n",
    "def hand_type(hand):\n",
    "    c = Counter(hand)\n",
    "    # High card\n",
    "    if len(c) == 5:\n",
    "        return 1\n",
    "    # One pair\n",
    "    elif len(c) == 4:\n",
    "        return 2\n",
    "    elif len(c) == 3:\n",
    "        # Two pair\n",
    "        if c.most_common(1)[0][1] == 2:\n",
    "            return 3\n",
    "        # Three of a kind\n",
    "        else:\n",
    "            return 4\n",
    "    elif len(c) == 2:\n",
    "        # Full house\n",
    "        if c.most_common(1)[0][1] == 3:\n",
    "            return 5\n",
    "        # Four of a kind\n",
    "        else:\n",
    "            return 6\n",
    "    #Five of a kind\n",
    "    elif len(c) == 1:\n",
    "        return 7\n",
    "\n",
    "def strength(card):\n",
    "    return '23456789TJQKA'.find(card)\n",
    "\n",
    "def hand_comparer(h1, h2):\n",
    "    h1 = h1[0]\n",
    "    h2 = h2[0]\n",
    "    for i, card in enumerate(h1):\n",
    "        if strength(h1[i]) < strength(h2[i]):\n",
    "            return -1\n",
    "        elif strength(h1[i]) > strength(h2[i]):\n",
    "            return 1\n",
    "    return 0\n",
    "\n",
    "answer(7.1, 251287184, lambda: cards(in7))"
   ]
  },
  {
   "cell_type": "code",
   "execution_count": 85,
   "metadata": {},
   "outputs": [
    {
     "data": {
      "text/plain": [
       "  .0300 seconds, answer: 250757288"
      ]
     },
     "execution_count": 85,
     "metadata": {},
     "output_type": "execute_result"
    }
   ],
   "source": [
    "from functools import cmp_to_key\n",
    "in7 = parse(7, show=0)\n",
    "\n",
    "def cards(data):\n",
    "    hand_types = defaultdict(list)\n",
    "    for item in data:\n",
    "        hand, bet = item.split(' ')\n",
    "        hand_types[hand_type(hand)].append((hand, bet))\n",
    "    for k, v in hand_types.items():\n",
    "        hand_types[k] = sorted(v, key=cmp_to_key(hand_comparer))\n",
    "    rank = 1\n",
    "    score = 0\n",
    "    # Go through each hand, starting from weakest\n",
    "    for i in range(1, 8):\n",
    "        for hand, bet in hand_types[i]:\n",
    "            score += rank * int(bet)\n",
    "            rank += 1\n",
    "    return score\n",
    "\n",
    "def replace_wildcards(hand):\n",
    "    if 'J' in hand:\n",
    "        c = Counter(hand.replace('J', ''))\n",
    "        if not c:\n",
    "            strongest = card_weights[-1]\n",
    "        else:\n",
    "            highest_frequency = max(c.values())\n",
    "            frequent_cards = [card for card, count in c.items() if count == highest_frequency]\n",
    "            strongest = max(frequent_cards, key=cmp_to_key(card_comparer))\n",
    "        return(hand.replace('J', strongest))\n",
    "    return hand\n",
    "\n",
    "def hand_type(hand):\n",
    "    new_hand = replace_wildcards(hand)\n",
    "    c = Counter(new_hand)\n",
    "\n",
    "    # High card\n",
    "    if len(c) == 5:\n",
    "        return 1\n",
    "    # One pair\n",
    "    elif len(c) == 4:\n",
    "        return 2\n",
    "    elif len(c) == 3:\n",
    "        # Two pair\n",
    "        if max(c.values()) == 2:\n",
    "            return 3\n",
    "        # Three of a kind\n",
    "        else:\n",
    "            return 4\n",
    "    elif len(c) == 2:\n",
    "        # Full house\n",
    "        if max(c.values()) == 3:\n",
    "            return 5\n",
    "        # Four of a kind\n",
    "        else:\n",
    "            return 6\n",
    "    #Five of a kind\n",
    "    elif len(c) == 1:\n",
    "        return 7\n",
    "\n",
    "def card_comparer(card1, card2):\n",
    "    if strength(card1) < strength(card2):\n",
    "        return -1\n",
    "    elif strength(card1) > strength(card2):\n",
    "        return 1\n",
    "    return 0\n",
    "\n",
    "def strength(card):\n",
    "    return card_weights.find(card)\n",
    "\n",
    "def hand_comparer(h1, h2):\n",
    "    h1 = h1[0]\n",
    "    h2 = h2[0]\n",
    "    for i in range(len(h1)):\n",
    "        comparison_result = card_comparer(h1[i], h2[i])\n",
    "        if comparison_result != 0:\n",
    "            return comparison_result\n",
    "    return 0\n",
    "\n",
    "card_weights = 'J23456789TQKA'\n",
    "\n",
    "answer(7.1, 250757288, lambda: cards(in7))"
   ]
  }
 ],
 "metadata": {
  "kernelspec": {
   "display_name": ".venv",
   "language": "python",
   "name": "python3"
  },
  "language_info": {
   "codemirror_mode": {
    "name": "ipython",
    "version": 3
   },
   "file_extension": ".py",
   "mimetype": "text/x-python",
   "name": "python",
   "nbconvert_exporter": "python",
   "pygments_lexer": "ipython3",
   "version": "3.11.6"
  }
 },
 "nbformat": 4,
 "nbformat_minor": 2
}
